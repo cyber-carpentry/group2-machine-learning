{
 "cells": [
  {
   "cell_type": "markdown",
   "metadata": {},
   "source": [
    "Import packages"
   ]
  },
  {
   "cell_type": "code",
   "execution_count": 1,
   "metadata": {},
   "outputs": [],
   "source": [
    "from __future__ import print_function\n",
    "import io, os, sys, types\n",
    "from IPython import get_ipython\n",
    "from nbformat import read\n",
    "from IPython.core.interactiveshell import InteractiveShell\n",
    "allow_stdin=True"
   ]
  },
  {
   "cell_type": "markdown",
   "metadata": {},
   "source": [
    "read the dataset"
   ]
  },
  {
   "cell_type": "code",
   "execution_count": 2,
   "metadata": {},
   "outputs": [
    {
     "name": "stdout",
     "output_type": "stream",
     "text": [
      "Please choose the dataset to be imported. The options are mnist & fashion: You chose -> mnist\n"
     ]
    },
    {
     "name": "stderr",
     "output_type": "stream",
     "text": [
      "Using TensorFlow backend.\n"
     ]
    }
   ],
   "source": [
    "flag = True\n",
    "while flag:\n",
    "    mydataset = input(\"Please choose the dataset to be imported. The options are mnist & fashion: You chose -> \")\n",
    "    if mydataset == \"mnist\":\n",
    "        from keras.datasets import mnist\n",
    "        flag = False\n",
    "    elif mydataset == \"fashion\":\n",
    "        from keras.datasets import fashion_mnist\n",
    "        flag = False\n",
    "    else:\n",
    "        print(\"You did not choose a right dataset to import, maybe next time!\")"
   ]
  },
  {
   "cell_type": "markdown",
   "metadata": {},
   "source": [
    "The following functions are letting the main code to see the other notebooks in the same directory (train, test, model, output)"
   ]
  },
  {
   "cell_type": "code",
   "execution_count": 3,
   "metadata": {},
   "outputs": [],
   "source": [
    "def find_notebook(fullname, path=None):\n",
    "    \"\"\"find a notebook, given its fully qualified name and an optional path\n",
    "\n",
    "    This turns \"foo.bar\" into \"foo/bar.ipynb\"\n",
    "    and tries turning \"Foo_Bar\" into \"Foo Bar\" if Foo_Bar\n",
    "    does not exist.\n",
    "    \"\"\"\n",
    "    name = fullname.rsplit('.', 1)[-1]\n",
    "    if not path:\n",
    "        path = ['']\n",
    "    for d in path:\n",
    "        nb_path = os.path.join(d, name + \".ipynb\")\n",
    "        if os.path.isfile(nb_path):\n",
    "            return nb_path\n",
    "        # let import Notebook_Name find \"Notebook Name.ipynb\"\n",
    "        nb_path = nb_path.replace(\"_\", \" \")\n",
    "        if os.path.isfile(nb_path):\n",
    "            return nb_path"
   ]
  },
  {
   "cell_type": "code",
   "execution_count": 4,
   "metadata": {},
   "outputs": [],
   "source": [
    "class NotebookLoader(object):\n",
    "    \"\"\"Module Loader for Jupyter Notebooks\"\"\"\n",
    "    def __init__(self, path=None):\n",
    "        self.shell = InteractiveShell.instance()\n",
    "        self.path = path\n",
    "\n",
    "    def load_module(self, fullname):\n",
    "        \"\"\"import a notebook as a module\"\"\"\n",
    "        path = find_notebook(fullname, self.path)\n",
    "\n",
    "        print (\"importing Jupyter notebook from %s\" % path)\n",
    "\n",
    "        # load the notebook object\n",
    "        with io.open(path, 'r', encoding='utf-8') as f:\n",
    "            nb = read(f, 4)\n",
    "\n",
    "\n",
    "        # create the module and add it to sys.modules\n",
    "        # if name in sys.modules:\n",
    "        #    return sys.modules[name]\n",
    "        mod = types.ModuleType(fullname)\n",
    "        mod.__file__ = path\n",
    "        mod.__loader__ = self\n",
    "        mod.__dict__['get_ipython'] = get_ipython\n",
    "        sys.modules[fullname] = mod\n",
    "\n",
    "        # extra work to ensure that magics that would affect the user_ns\n",
    "        # actually affect the notebook module's ns\n",
    "        save_user_ns = self.shell.user_ns\n",
    "        self.shell.user_ns = mod.__dict__\n",
    "\n",
    "        try:\n",
    "          for cell in nb.cells:\n",
    "            if cell.cell_type == 'code':\n",
    "                # transform the input to executable Python\n",
    "                code = self.shell.input_transformer_manager.transform_cell(cell.source)\n",
    "                # run the code in themodule\n",
    "                exec(code, mod.__dict__)\n",
    "        finally:\n",
    "            self.shell.user_ns = save_user_ns\n",
    "        return mod"
   ]
  },
  {
   "cell_type": "code",
   "execution_count": 5,
   "metadata": {},
   "outputs": [],
   "source": [
    "class NotebookFinder(object):\n",
    "    \"\"\"Module finder that locates Jupyter Notebooks\"\"\"\n",
    "    def __init__(self):\n",
    "        self.loaders = {}\n",
    "\n",
    "    def find_module(self, fullname, path=None):\n",
    "        nb_path = find_notebook(fullname, path)\n",
    "        if not nb_path:\n",
    "            return\n",
    "\n",
    "        key = path\n",
    "        if path:\n",
    "            # lists aren't hashable\n",
    "            key = os.path.sep.join(path)\n",
    "\n",
    "        if key not in self.loaders:\n",
    "            self.loaders[key] = NotebookLoader(path)\n",
    "        return self.loaders[key]"
   ]
  },
  {
   "cell_type": "code",
   "execution_count": 6,
   "metadata": {},
   "outputs": [],
   "source": [
    "sys.meta_path.append(NotebookFinder())"
   ]
  },
  {
   "cell_type": "markdown",
   "metadata": {},
   "source": [
    "Set the variables"
   ]
  },
  {
   "cell_type": "code",
   "execution_count": 7,
   "metadata": {},
   "outputs": [
    {
     "name": "stdout",
     "output_type": "stream",
     "text": [
      "Stored 'num_classes' (int)\n",
      "Stored 'epochs' (int)\n",
      "Stored 'batch_size' (int)\n"
     ]
    }
   ],
   "source": [
    "batch_size = 128\n",
    "num_classes = 10\n",
    "epochs = 20\n",
    "%store num_classes\n",
    "%store epochs\n",
    "%store batch_size"
   ]
  },
  {
   "cell_type": "code",
   "execution_count": 8,
   "metadata": {},
   "outputs": [
    {
     "name": "stdout",
     "output_type": "stream",
     "text": [
      "Stored 'x_train' (ndarray)\n",
      "Stored 'y_train' (ndarray)\n",
      "Stored 'x_test' (ndarray)\n",
      "Stored 'y_test' (ndarray)\n"
     ]
    }
   ],
   "source": [
    "if mydataset == \"mnist\":\n",
    "    (x_train, y_train), (x_test, y_test) = mnist.load_data()\n",
    "elif mydataset == \"fashion\":\n",
    "    (x_train, y_train), (x_test, y_test) = fashion_mnist.load_data()\n",
    "%store x_train\n",
    "%store y_train\n",
    "%store x_test\n",
    "%store y_test"
   ]
  },
  {
   "cell_type": "markdown",
   "metadata": {},
   "source": [
    "Train the model by calling the train.ipynb notebook"
   ]
  },
  {
   "cell_type": "code",
   "execution_count": 9,
   "metadata": {},
   "outputs": [
    {
     "name": "stderr",
     "output_type": "stream",
     "text": [
      "WARNING: Logging before flag parsing goes to stderr.\n",
      "W0723 22:57:12.362266 4643063232 deprecation_wrapper.py:119] From /Users/Toktam/anaconda3/lib/python3.7/site-packages/keras/backend/tensorflow_backend.py:74: The name tf.get_default_graph is deprecated. Please use tf.compat.v1.get_default_graph instead.\n",
      "\n",
      "W0723 22:57:12.417139 4643063232 deprecation_wrapper.py:119] From /Users/Toktam/anaconda3/lib/python3.7/site-packages/keras/backend/tensorflow_backend.py:517: The name tf.placeholder is deprecated. Please use tf.compat.v1.placeholder instead.\n",
      "\n",
      "W0723 22:57:12.421503 4643063232 deprecation_wrapper.py:119] From /Users/Toktam/anaconda3/lib/python3.7/site-packages/keras/backend/tensorflow_backend.py:4138: The name tf.random_uniform is deprecated. Please use tf.random.uniform instead.\n",
      "\n"
     ]
    },
    {
     "name": "stdout",
     "output_type": "stream",
     "text": [
      "60000 train samples\n",
      "10000 train samples\n",
      "Stored 'test_data' (ndarray)\n",
      "Stored 'test_label' (ndarray)\n"
     ]
    },
    {
     "name": "stderr",
     "output_type": "stream",
     "text": [
      "W0723 22:57:12.477925 4643063232 deprecation_wrapper.py:119] From /Users/Toktam/anaconda3/lib/python3.7/site-packages/keras/backend/tensorflow_backend.py:133: The name tf.placeholder_with_default is deprecated. Please use tf.compat.v1.placeholder_with_default instead.\n",
      "\n",
      "W0723 22:57:12.616919 4643063232 deprecation.py:506] From /Users/Toktam/anaconda3/lib/python3.7/site-packages/keras/backend/tensorflow_backend.py:3445: calling dropout (from tensorflow.python.ops.nn_ops) with keep_prob is deprecated and will be removed in a future version.\n",
      "Instructions for updating:\n",
      "Please use `rate` instead of `keep_prob`. Rate should be set to `rate = 1 - keep_prob`.\n",
      "W0723 22:57:12.750693 4643063232 deprecation_wrapper.py:119] From /Users/Toktam/anaconda3/lib/python3.7/site-packages/keras/backend/tensorflow_backend.py:174: The name tf.get_default_session is deprecated. Please use tf.compat.v1.get_default_session instead.\n",
      "\n"
     ]
    },
    {
     "name": "stdout",
     "output_type": "stream",
     "text": [
      "_________________________________________________________________\n",
      "Layer (type)                 Output Shape              Param #   \n",
      "=================================================================\n",
      "dense_1 (Dense)              (None, 512)               401920    \n",
      "_________________________________________________________________\n",
      "dropout_1 (Dropout)          (None, 512)               0         \n",
      "_________________________________________________________________\n",
      "dense_2 (Dense)              (None, 512)               262656    \n",
      "_________________________________________________________________\n",
      "dropout_2 (Dropout)          (None, 512)               0         \n",
      "_________________________________________________________________\n",
      "dense_3 (Dense)              (None, 10)                5130      \n",
      "=================================================================\n",
      "Total params: 669,706\n",
      "Trainable params: 669,706\n",
      "Non-trainable params: 0\n",
      "_________________________________________________________________\n",
      "Stored 'model' (Sequential)\n"
     ]
    },
    {
     "name": "stderr",
     "output_type": "stream",
     "text": [
      "/Users/Toktam/anaconda3/lib/python3.7/site-packages/keras/engine/saving.py:292: UserWarning: No training configuration found in save file: the model was *not* compiled. Compile it manually.\n",
      "  warnings.warn('No training configuration found in save file: '\n",
      "W0723 22:57:13.178049 4643063232 deprecation_wrapper.py:119] From /Users/Toktam/anaconda3/lib/python3.7/site-packages/keras/optimizers.py:790: The name tf.train.Optimizer is deprecated. Please use tf.compat.v1.train.Optimizer instead.\n",
      "\n",
      "W0723 22:57:13.330455 4643063232 deprecation.py:323] From /Users/Toktam/anaconda3/lib/python3.7/site-packages/tensorflow/python/ops/math_grad.py:1250: add_dispatch_support.<locals>.wrapper (from tensorflow.python.ops.array_ops) is deprecated and will be removed in a future version.\n",
      "Instructions for updating:\n",
      "Use tf.where in 2.0, which has the same broadcast rule as np.where\n"
     ]
    },
    {
     "name": "stdout",
     "output_type": "stream",
     "text": [
      "Train on 128 samples, validate on 10000 samples\n",
      "Epoch 1/20\n",
      "128/128 [==============================] - 1s 6ms/step - loss: 2.3581 - acc: 0.0938 - val_loss: 2.1595 - val_acc: 0.2758\n",
      "Epoch 2/20\n",
      "128/128 [==============================] - 0s 2ms/step - loss: 1.6164 - acc: 0.4531 - val_loss: 1.7409 - val_acc: 0.5356\n",
      "Epoch 3/20\n",
      "128/128 [==============================] - 0s 2ms/step - loss: 1.3611 - acc: 0.7656 - val_loss: 1.4430 - val_acc: 0.5362\n",
      "Epoch 4/20\n",
      "128/128 [==============================] - 0s 2ms/step - loss: 0.7542 - acc: 0.8125 - val_loss: 1.2579 - val_acc: 0.6340\n",
      "Epoch 5/20\n",
      "128/128 [==============================] - 0s 2ms/step - loss: 0.4958 - acc: 0.9453 - val_loss: 1.2518 - val_acc: 0.5971\n",
      "Epoch 6/20\n",
      "128/128 [==============================] - 0s 2ms/step - loss: 0.4475 - acc: 0.8516 - val_loss: 1.4195 - val_acc: 0.5667\n",
      "Epoch 7/20\n",
      "128/128 [==============================] - 0s 3ms/step - loss: 0.3603 - acc: 0.9297 - val_loss: 1.2193 - val_acc: 0.6397\n",
      "Epoch 8/20\n",
      "128/128 [==============================] - 0s 2ms/step - loss: 0.3220 - acc: 0.9219 - val_loss: 1.1231 - val_acc: 0.6256\n",
      "Epoch 9/20\n",
      "128/128 [==============================] - 0s 1ms/step - loss: 0.2160 - acc: 0.9375 - val_loss: 1.0144 - val_acc: 0.7052\n",
      "Epoch 10/20\n",
      "128/128 [==============================] - 0s 1ms/step - loss: 0.1463 - acc: 0.9766 - val_loss: 0.9437 - val_acc: 0.6971\n",
      "Epoch 11/20\n",
      "128/128 [==============================] - 0s 3ms/step - loss: 0.0823 - acc: 1.0000 - val_loss: 0.9288 - val_acc: 0.7213\n",
      "Epoch 12/20\n",
      "128/128 [==============================] - 0s 2ms/step - loss: 0.0671 - acc: 1.0000 - val_loss: 0.9497 - val_acc: 0.7141\n",
      "Epoch 13/20\n",
      "128/128 [==============================] - 0s 2ms/step - loss: 0.0542 - acc: 1.0000 - val_loss: 0.9339 - val_acc: 0.7170\n",
      "Epoch 14/20\n",
      "128/128 [==============================] - 0s 2ms/step - loss: 0.0545 - acc: 1.0000 - val_loss: 0.9486 - val_acc: 0.7149\n",
      "Epoch 15/20\n",
      "128/128 [==============================] - 0s 1ms/step - loss: 0.0432 - acc: 1.0000 - val_loss: 0.9560 - val_acc: 0.7160\n",
      "Epoch 16/20\n",
      "128/128 [==============================] - 0s 1ms/step - loss: 0.0360 - acc: 1.0000 - val_loss: 0.9199 - val_acc: 0.7239\n",
      "Epoch 17/20\n",
      "128/128 [==============================] - 0s 2ms/step - loss: 0.0288 - acc: 1.0000 - val_loss: 0.9545 - val_acc: 0.7212\n",
      "Epoch 18/20\n",
      "128/128 [==============================] - 0s 2ms/step - loss: 0.0244 - acc: 1.0000 - val_loss: 0.9849 - val_acc: 0.7179\n",
      "Epoch 19/20\n",
      "128/128 [==============================] - 0s 2ms/step - loss: 0.0220 - acc: 1.0000 - val_loss: 0.9743 - val_acc: 0.7198\n",
      "Epoch 20/20\n",
      "128/128 [==============================] - 0s 2ms/step - loss: 0.0186 - acc: 1.0000 - val_loss: 0.9825 - val_acc: 0.7221\n",
      "Stored 'history' (History)\n"
     ]
    }
   ],
   "source": [
    "%run ./train.ipynb"
   ]
  },
  {
   "cell_type": "markdown",
   "metadata": {},
   "source": [
    "Test the model by calling the test.ipynb notebook"
   ]
  },
  {
   "cell_type": "code",
   "execution_count": 10,
   "metadata": {},
   "outputs": [
    {
     "name": "stdout",
     "output_type": "stream",
     "text": [
      "Test loss: 0.9824548957586289\n",
      "Test accuracy: 0.7221\n",
      "Stored 'test_score' (list)\n"
     ]
    }
   ],
   "source": [
    "%run ./test.ipynb\n",
    "%store -r test_score"
   ]
  },
  {
   "cell_type": "code",
   "execution_count": 11,
   "metadata": {},
   "outputs": [
    {
     "name": "stdout",
     "output_type": "stream",
     "text": [
      "[0.11718455487646338, 0.9841] from output\n"
     ]
    }
   ],
   "source": [
    "%run ./output.ipynb"
   ]
  },
  {
   "cell_type": "code",
   "execution_count": 12,
   "metadata": {},
   "outputs": [
    {
     "name": "stdout",
     "output_type": "stream",
     "text": [
      "Finished!\n"
     ]
    }
   ],
   "source": [
    "print(\"Finished!\")"
   ]
  }
 ],
 "metadata": {
  "kernelspec": {
   "display_name": "Python 3",
   "language": "python",
   "name": "python3"
  },
  "language_info": {
   "codemirror_mode": {
    "name": "ipython",
    "version": 3
   },
   "file_extension": ".py",
   "mimetype": "text/x-python",
   "name": "python",
   "nbconvert_exporter": "python",
   "pygments_lexer": "ipython3",
   "version": "3.7.3"
  }
 },
 "nbformat": 4,
 "nbformat_minor": 2
}
