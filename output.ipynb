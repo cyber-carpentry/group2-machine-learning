{
 "cells": [
  {
   "cell_type": "markdown",
   "metadata": {},
   "source": [
    "Import packages"
   ]
  },
  {
   "cell_type": "code",
   "execution_count": null,
   "metadata": {},
   "outputs": [],
   "source": [
    "from __future__ import print_function\n",
    "\n",
    "import matplotlib.pyplot as plt"
   ]
  },
  {
   "cell_type": "markdown",
   "metadata": {},
   "source": [
    "Getting the outputs"
   ]
  },
  {
   "cell_type": "code",
   "execution_count": null,
   "metadata": {},
   "outputs": [],
   "source": [
    "%store -r mydataset\n",
    "%store -r history\n",
    "results = history\n",
    "loss_fig = plt.figure()\n",
    "plt.plot(results.epoch,results.history['loss'],'bo',label = 'Train')\n",
    "plt.plot(results.epoch,results.history['val_loss'],'go',label = 'Test')\n",
    "plt.xlabel('Training epochs'); plt.ylabel('loss')\n",
    "plt.title('Training and validation loss'); plt.legend()"
   ]
  },
  {
   "cell_type": "code",
   "execution_count": null,
   "metadata": {},
   "outputs": [],
   "source": [
    "accuracy_fig = plt.figure()\n",
    "plt.plot(results.epoch,results.history['acc'],'bo',label = 'Train')\n",
    "plt.plot(results.epoch,results.history['val_acc'],'go',label = 'Test')\n",
    "plt.xlabel('Training epochs'); plt.ylabel('accuracy')\n",
    "plt.title('Training and validation accuracy'); plt.legend()"
   ]
  },
  {
   "cell_type": "code",
   "execution_count": null,
   "metadata": {},
   "outputs": [],
   "source": [
    "from matplotlib.backends.backend_pdf import PdfPages\n",
    "pp = PdfPages(str(mydataset) + '_results_summary_plots.pdf')\n",
    "pp.savefig(loss_fig)\n",
    "pp.savefig(accuracy_fig)\n",
    "pp.close()"
   ]
  },
  {
   "cell_type": "code",
   "execution_count": null,
   "metadata": {},
   "outputs": [],
   "source": [
    "%store -r score\n",
    "%store -r model\n",
    "f = open(str(mydataset) + '_model_results_summary.txt','w')\n",
    "f.write(str(mydataset) + ' Summary of the neural network model:\\r\\n')\n",
    "f.close()\n",
    "with open(str(mydataset) + '_model_results_summary.txt','a') as f:\n",
    "    model.summary(print_fn=lambda x: f.write(x + '\\n'))\n",
    "    \n",
    "f = open(str(mydataset) + '_model_results_summary.txt','a')\n",
    "f.write('Test loss: %s\\r\\n' %str(score[0]))\n",
    "f.write('Test accuracy: %s\\r\\n' %str(score[1]))\n",
    "f.close()"
   ]
  },
  {
   "cell_type": "code",
   "execution_count": null,
   "metadata": {},
   "outputs": [],
   "source": [
    "print(score, \"from output\")"
   ]
  }
 ],
 "metadata": {
  "kernelspec": {
   "display_name": "Python 3",
   "language": "python",
   "name": "python3"
  },
  "language_info": {
   "codemirror_mode": {
    "name": "ipython",
    "version": 3
   },
   "file_extension": ".py",
   "mimetype": "text/x-python",
   "name": "python",
   "nbconvert_exporter": "python",
   "pygments_lexer": "ipython3",
   "version": "3.7.3"
  }
 },
 "nbformat": 4,
 "nbformat_minor": 2
}
