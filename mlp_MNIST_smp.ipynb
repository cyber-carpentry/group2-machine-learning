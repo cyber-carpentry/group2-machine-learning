{
 "cells": [
  {
   "cell_type": "markdown",
   "metadata": {},
   "source": [
    "Import packages"
   ]
  },
  {
   "cell_type": "code",
   "execution_count": 1,
   "metadata": {},
   "outputs": [
    {
     "name": "stderr",
     "output_type": "stream",
     "text": [
      "Using TensorFlow backend.\n"
     ]
    }
   ],
   "source": [
    "from __future__ import print_function\n",
    "\n",
    "import keras\n",
    "from keras.datasets import mnist\n",
    "from keras.models import Sequential\n",
    "from keras.layers import Dense, Dropout\n",
    "from keras.optimizers import RMSprop"
   ]
  },
  {
   "cell_type": "markdown",
   "metadata": {},
   "source": [
    "Set variables"
   ]
  },
  {
   "cell_type": "code",
   "execution_count": 2,
   "metadata": {},
   "outputs": [],
   "source": [
    "batch_size = 128\n",
    "num_classes = 10\n",
    "epochs = 20"
   ]
  },
  {
   "cell_type": "markdown",
   "metadata": {},
   "source": [
    "Setup test and training data sets"
   ]
  },
  {
   "cell_type": "code",
   "execution_count": 3,
   "metadata": {},
   "outputs": [
    {
     "name": "stdout",
     "output_type": "stream",
     "text": [
      "Downloading data from https://s3.amazonaws.com/img-datasets/mnist.npz\n",
      "11493376/11490434 [==============================] - 2s 0us/step\n",
      "60000 train samples\n",
      "10000 test samples\n"
     ]
    }
   ],
   "source": [
    "# the data, split between train and test sets\n",
    "(x_train, y_train), (x_test, y_test) = mnist.load_data()\n",
    "\n",
    "x_train = x_train.reshape(60000, 784)\n",
    "x_test = x_test.reshape(10000, 784)\n",
    "x_train = x_train.astype('float32')\n",
    "x_test = x_test.astype('float32')\n",
    "x_train /= 255\n",
    "x_test /= 255\n",
    "print(x_train.shape[0], 'train samples')\n",
    "print(x_test.shape[0], 'test samples')"
   ]
  },
  {
   "cell_type": "markdown",
   "metadata": {},
   "source": [
    "Set up train and test matrices"
   ]
  },
  {
   "cell_type": "code",
   "execution_count": 11,
   "metadata": {},
   "outputs": [],
   "source": [
    "# convert class vectors to binary class matrices\n",
    "y_train = keras.utils.to_categorical(y_train, num_classes)\n",
    "y_test = keras.utils.to_categorical(y_test, num_classes)"
   ]
  },
  {
   "cell_type": "markdown",
   "metadata": {},
   "source": [
    "Set up model"
   ]
  },
  {
   "cell_type": "code",
   "execution_count": 14,
   "metadata": {},
   "outputs": [
    {
     "name": "stdout",
     "output_type": "stream",
     "text": [
      "WARNING:tensorflow:From /opt/conda/lib/python3.7/site-packages/tensorflow/python/framework/op_def_library.py:263: colocate_with (from tensorflow.python.framework.ops) is deprecated and will be removed in a future version.\n",
      "Instructions for updating:\n",
      "Colocations handled automatically by placer.\n",
      "WARNING:tensorflow:From /opt/conda/lib/python3.7/site-packages/keras/backend/tensorflow_backend.py:3445: calling dropout (from tensorflow.python.ops.nn_ops) with keep_prob is deprecated and will be removed in a future version.\n",
      "Instructions for updating:\n",
      "Please use `rate` instead of `keep_prob`. Rate should be set to `rate = 1 - keep_prob`.\n",
      "_________________________________________________________________\n",
      "Layer (type)                 Output Shape              Param #   \n",
      "=================================================================\n",
      "dense_1 (Dense)              (None, 512)               401920    \n",
      "_________________________________________________________________\n",
      "dropout_1 (Dropout)          (None, 512)               0         \n",
      "_________________________________________________________________\n",
      "dense_2 (Dense)              (None, 512)               262656    \n",
      "_________________________________________________________________\n",
      "dropout_2 (Dropout)          (None, 512)               0         \n",
      "_________________________________________________________________\n",
      "dense_3 (Dense)              (None, 10)                5130      \n",
      "=================================================================\n",
      "Total params: 669,706\n",
      "Trainable params: 669,706\n",
      "Non-trainable params: 0\n",
      "_________________________________________________________________\n"
     ]
    }
   ],
   "source": [
    "model = Sequential()\n",
    "model.add(Dense(512, activation='relu', input_shape=(784,)))\n",
    "model.add(Dropout(0.2))\n",
    "model.add(Dense(512, activation='relu'))\n",
    "model.add(Dropout(0.2))\n",
    "model.add(Dense(num_classes, activation='softmax'))\n",
    "\n",
    "model.summary()"
   ]
  },
  {
   "cell_type": "markdown",
   "metadata": {},
   "source": [
    " Configure the model for training"
   ]
  },
  {
   "cell_type": "code",
   "execution_count": 16,
   "metadata": {},
   "outputs": [],
   "source": [
    "model.compile(loss='categorical_crossentropy',\n",
    "              optimizer=RMSprop(),\n",
    "              metrics=['accuracy'])"
   ]
  },
  {
   "cell_type": "markdown",
   "metadata": {},
   "source": [
    "Run the model"
   ]
  },
  {
   "cell_type": "code",
   "execution_count": 18,
   "metadata": {},
   "outputs": [
    {
     "name": "stdout",
     "output_type": "stream",
     "text": [
      "WARNING:tensorflow:From /opt/conda/lib/python3.7/site-packages/tensorflow/python/ops/math_ops.py:3066: to_int32 (from tensorflow.python.ops.math_ops) is deprecated and will be removed in a future version.\n",
      "Instructions for updating:\n",
      "Use tf.cast instead.\n",
      "Train on 60000 samples, validate on 10000 samples\n",
      "Epoch 1/20\n",
      "60000/60000 [==============================] - 9s 146us/step - loss: 0.2440 - acc: 0.9235 - val_loss: 0.1073 - val_acc: 0.9657\n",
      "Epoch 2/20\n",
      "60000/60000 [==============================] - 8s 134us/step - loss: 0.1030 - acc: 0.9683 - val_loss: 0.0734 - val_acc: 0.9775\n",
      "Epoch 3/20\n",
      "60000/60000 [==============================] - 8s 127us/step - loss: 0.0755 - acc: 0.9771 - val_loss: 0.0757 - val_acc: 0.9775\n",
      "Epoch 4/20\n",
      "60000/60000 [==============================] - 7s 121us/step - loss: 0.0604 - acc: 0.9820 - val_loss: 0.0747 - val_acc: 0.9802\n",
      "Epoch 5/20\n",
      "60000/60000 [==============================] - 7s 124us/step - loss: 0.0506 - acc: 0.9853 - val_loss: 0.0807 - val_acc: 0.9792\n",
      "Epoch 6/20\n",
      "60000/60000 [==============================] - 8s 133us/step - loss: 0.0435 - acc: 0.9870 - val_loss: 0.0706 - val_acc: 0.9819\n",
      "Epoch 7/20\n",
      "60000/60000 [==============================] - 9s 149us/step - loss: 0.0392 - acc: 0.9887 - val_loss: 0.0841 - val_acc: 0.9813\n",
      "Epoch 8/20\n",
      "60000/60000 [==============================] - 8s 135us/step - loss: 0.0353 - acc: 0.9898 - val_loss: 0.0749 - val_acc: 0.9829\n",
      "Epoch 9/20\n",
      "60000/60000 [==============================] - 12s 199us/step - loss: 0.0306 - acc: 0.9913 - val_loss: 0.0783 - val_acc: 0.9840\n",
      "Epoch 10/20\n",
      "60000/60000 [==============================] - 8s 125us/step - loss: 0.0275 - acc: 0.9919 - val_loss: 0.0946 - val_acc: 0.9834\n",
      "Epoch 11/20\n",
      "60000/60000 [==============================] - 8s 133us/step - loss: 0.0272 - acc: 0.9925 - val_loss: 0.0970 - val_acc: 0.9815\n",
      "Epoch 12/20\n",
      "60000/60000 [==============================] - 8s 129us/step - loss: 0.0243 - acc: 0.9929 - val_loss: 0.0994 - val_acc: 0.9831\n",
      "Epoch 13/20\n",
      "60000/60000 [==============================] - 8s 129us/step - loss: 0.0257 - acc: 0.9930 - val_loss: 0.0945 - val_acc: 0.9833\n",
      "Epoch 14/20\n",
      "60000/60000 [==============================] - 8s 125us/step - loss: 0.0232 - acc: 0.9937 - val_loss: 0.1168 - val_acc: 0.9803\n",
      "Epoch 15/20\n",
      "60000/60000 [==============================] - 8s 129us/step - loss: 0.0202 - acc: 0.9943 - val_loss: 0.0958 - val_acc: 0.9839\n",
      "Epoch 16/20\n",
      "60000/60000 [==============================] - 8s 126us/step - loss: 0.0204 - acc: 0.9947 - val_loss: 0.1116 - val_acc: 0.9816\n",
      "Epoch 17/20\n",
      "60000/60000 [==============================] - 8s 131us/step - loss: 0.0198 - acc: 0.9945 - val_loss: 0.1093 - val_acc: 0.9830\n",
      "Epoch 18/20\n",
      "60000/60000 [==============================] - 8s 129us/step - loss: 0.0191 - acc: 0.9949 - val_loss: 0.1062 - val_acc: 0.9836\n",
      "Epoch 19/20\n",
      "60000/60000 [==============================] - 8s 127us/step - loss: 0.0163 - acc: 0.9957 - val_loss: 0.1205 - val_acc: 0.9820\n",
      "Epoch 20/20\n",
      "60000/60000 [==============================] - 8s 128us/step - loss: 0.0183 - acc: 0.9955 - val_loss: 0.1167 - val_acc: 0.9841\n"
     ]
    }
   ],
   "source": [
    "history = model.fit(x_train, y_train,\n",
    "                    batch_size=batch_size,\n",
    "                    epochs=epochs,\n",
    "                    verbose=1,\n",
    "                    validation_data=(x_test, y_test))"
   ]
  },
  {
   "cell_type": "markdown",
   "metadata": {},
   "source": [
    "Test how the model performed"
   ]
  },
  {
   "cell_type": "code",
   "execution_count": 19,
   "metadata": {},
   "outputs": [
    {
     "name": "stdout",
     "output_type": "stream",
     "text": [
      "Test loss: 0.11666773989663103\n",
      "Test accuracy: 0.9841\n"
     ]
    }
   ],
   "source": [
    "score = model.evaluate(x_test, y_test, verbose=0)\n",
    "print('Test loss:', score[0])\n",
    "print('Test accuracy:', score[1])"
   ]
  }
 ],
 "metadata": {
  "kernelspec": {
   "display_name": "Python 3",
   "language": "python",
   "name": "python3"
  },
  "language_info": {
   "codemirror_mode": {
    "name": "ipython",
    "version": 3
   },
   "file_extension": ".py",
   "mimetype": "text/x-python",
   "name": "python",
   "nbconvert_exporter": "python",
   "pygments_lexer": "ipython3",
   "version": "3.7.3"
  }
 },
 "nbformat": 4,
 "nbformat_minor": 2
}
